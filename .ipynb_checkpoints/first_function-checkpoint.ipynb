{
 "cells": [
  {
   "cell_type": "code",
   "execution_count": 7,
   "id": "587316ce-d356-43f8-bcda-6155865860ff",
   "metadata": {},
   "outputs": [],
   "source": [
    "def hello_world:\n",
    "    print(\"Hello World!\")\n",
    "\n",
    "hello_world()"
   ]
  },
  {
   "cell_type": "code",
   "execution_count": null,
   "id": "a694ad3a-75c1-4bdf-9e45-b23533849be4",
   "metadata": {},
   "outputs": [],
   "source": [
    "\"\"\"\n",
    "= Hello World\n",
    "\n",
    "Only prints out \"Hello World!\"\n",
    "\"\"\""
   ]
  }
 ],
 "metadata": {
  "kernelspec": {
   "display_name": "Python 3 (ipykernel)",
   "language": "python",
   "name": "python3"
  },
  "language_info": {
   "codemirror_mode": {
    "name": "ipython",
    "version": 3
   },
   "file_extension": ".py",
   "mimetype": "text/x-python",
   "name": "python",
   "nbconvert_exporter": "python",
   "pygments_lexer": "ipython3",
   "version": "3.9.6"
  }
 },
 "nbformat": 4,
 "nbformat_minor": 5
}
